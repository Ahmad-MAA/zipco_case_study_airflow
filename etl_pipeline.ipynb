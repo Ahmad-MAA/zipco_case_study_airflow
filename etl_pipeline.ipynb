{
 "cells": [
  {
   "cell_type": "code",
   "execution_count": 2,
   "metadata": {},
   "outputs": [
    {
     "name": "stdout",
     "output_type": "stream",
     "text": [
      "Collecting pandas\n",
      "  Downloading pandas-2.2.3-cp312-cp312-win_amd64.whl.metadata (19 kB)\n",
      "Collecting numpy>=1.26.0 (from pandas)\n",
      "  Downloading numpy-2.1.2-cp312-cp312-win_amd64.whl.metadata (59 kB)\n",
      "Requirement already satisfied: python-dateutil>=2.8.2 in c:\\users\\ahmad\\appdata\\roaming\\python\\python312\\site-packages (from pandas) (2.9.0.post0)\n",
      "Collecting pytz>=2020.1 (from pandas)\n",
      "  Using cached pytz-2024.2-py2.py3-none-any.whl.metadata (22 kB)\n",
      "Collecting tzdata>=2022.7 (from pandas)\n",
      "  Using cached tzdata-2024.2-py2.py3-none-any.whl.metadata (1.4 kB)\n",
      "Requirement already satisfied: six>=1.5 in c:\\users\\ahmad\\appdata\\roaming\\python\\python312\\site-packages (from python-dateutil>=2.8.2->pandas) (1.16.0)\n",
      "Downloading pandas-2.2.3-cp312-cp312-win_amd64.whl (11.5 MB)\n",
      "   ---------------------------------------- 0.0/11.5 MB ? eta -:--:--\n",
      "   ------------ --------------------------- 3.7/11.5 MB 18.1 MB/s eta 0:00:01\n",
      "   -------------------------- ------------- 7.6/11.5 MB 18.8 MB/s eta 0:00:01\n",
      "   ---------------------------------------  11.3/11.5 MB 19.0 MB/s eta 0:00:01\n",
      "   ---------------------------------------- 11.5/11.5 MB 16.3 MB/s eta 0:00:00\n",
      "Downloading numpy-2.1.2-cp312-cp312-win_amd64.whl (12.6 MB)\n",
      "   ---------------------------------------- 0.0/12.6 MB ? eta -:--:--\n",
      "   ------------- -------------------------- 4.2/12.6 MB 19.4 MB/s eta 0:00:01\n",
      "   ------------------------- -------------- 7.9/12.6 MB 18.7 MB/s eta 0:00:01\n",
      "   ---------------------------------------  12.3/12.6 MB 19.3 MB/s eta 0:00:01\n",
      "   ---------------------------------------- 12.6/12.6 MB 14.3 MB/s eta 0:00:00\n",
      "Using cached pytz-2024.2-py2.py3-none-any.whl (508 kB)\n",
      "Using cached tzdata-2024.2-py2.py3-none-any.whl (346 kB)\n",
      "Installing collected packages: pytz, tzdata, numpy, pandas\n",
      "Successfully installed numpy-2.1.2 pandas-2.2.3 pytz-2024.2 tzdata-2024.2\n"
     ]
    },
    {
     "name": "stderr",
     "output_type": "stream",
     "text": [
      "  WARNING: The scripts f2py.exe and numpy-config.exe are installed in 'c:\\Users\\AHMAD\\AppData\\Local\\Programs\\Python\\Python312\\Scripts' which is not on PATH.\n",
      "  Consider adding this directory to PATH or, if you prefer to suppress this warning, use --no-warn-script-location.\n"
     ]
    }
   ],
   "source": [
    "# instaling the necessary drive\n",
    "!python -m pip install pandas "
   ]
  },
  {
   "cell_type": "code",
   "execution_count": 3,
   "metadata": {},
   "outputs": [
    {
     "name": "stdout",
     "output_type": "stream",
     "text": [
      "Collecting azure_storage_blob\n",
      "  Using cached azure_storage_blob-12.23.1-py3-none-any.whl.metadata (26 kB)\n",
      "Collecting azure-core>=1.30.0 (from azure_storage_blob)\n",
      "  Using cached azure_core-1.31.0-py3-none-any.whl.metadata (39 kB)\n",
      "Collecting cryptography>=2.1.4 (from azure_storage_blob)\n",
      "  Downloading cryptography-43.0.1-cp39-abi3-win_amd64.whl.metadata (5.4 kB)\n",
      "Collecting typing-extensions>=4.6.0 (from azure_storage_blob)\n",
      "  Using cached typing_extensions-4.12.2-py3-none-any.whl.metadata (3.0 kB)\n",
      "Collecting isodate>=0.6.1 (from azure_storage_blob)\n",
      "  Downloading isodate-0.7.2-py3-none-any.whl.metadata (11 kB)\n",
      "Collecting requests>=2.21.0 (from azure-core>=1.30.0->azure_storage_blob)\n",
      "  Downloading requests-2.32.3-py3-none-any.whl.metadata (4.6 kB)\n",
      "Requirement already satisfied: six>=1.11.0 in c:\\users\\ahmad\\appdata\\roaming\\python\\python312\\site-packages (from azure-core>=1.30.0->azure_storage_blob) (1.16.0)\n",
      "Collecting cffi>=1.12 (from cryptography>=2.1.4->azure_storage_blob)\n",
      "  Downloading cffi-1.17.1-cp312-cp312-win_amd64.whl.metadata (1.6 kB)\n",
      "Collecting pycparser (from cffi>=1.12->cryptography>=2.1.4->azure_storage_blob)\n",
      "  Downloading pycparser-2.22-py3-none-any.whl.metadata (943 bytes)\n",
      "Collecting charset-normalizer<4,>=2 (from requests>=2.21.0->azure-core>=1.30.0->azure_storage_blob)\n",
      "  Downloading charset_normalizer-3.4.0-cp312-cp312-win_amd64.whl.metadata (34 kB)\n",
      "Collecting idna<4,>=2.5 (from requests>=2.21.0->azure-core>=1.30.0->azure_storage_blob)\n",
      "  Downloading idna-3.10-py3-none-any.whl.metadata (10 kB)\n",
      "Collecting urllib3<3,>=1.21.1 (from requests>=2.21.0->azure-core>=1.30.0->azure_storage_blob)\n",
      "  Downloading urllib3-2.2.3-py3-none-any.whl.metadata (6.5 kB)\n",
      "Collecting certifi>=2017.4.17 (from requests>=2.21.0->azure-core>=1.30.0->azure_storage_blob)\n",
      "  Downloading certifi-2024.8.30-py3-none-any.whl.metadata (2.2 kB)\n",
      "Using cached azure_storage_blob-12.23.1-py3-none-any.whl (405 kB)\n",
      "Using cached azure_core-1.31.0-py3-none-any.whl (197 kB)\n",
      "Downloading cryptography-43.0.1-cp39-abi3-win_amd64.whl (3.1 MB)\n",
      "   ---------------------------------------- 0.0/3.1 MB ? eta -:--:--\n",
      "   ------------------------------------- -- 2.9/3.1 MB 18.7 MB/s eta 0:00:01\n",
      "   ---------------------------------------- 3.1/3.1 MB 15.0 MB/s eta 0:00:00\n",
      "Downloading isodate-0.7.2-py3-none-any.whl (22 kB)\n",
      "Using cached typing_extensions-4.12.2-py3-none-any.whl (37 kB)\n",
      "Downloading cffi-1.17.1-cp312-cp312-win_amd64.whl (181 kB)\n",
      "Downloading requests-2.32.3-py3-none-any.whl (64 kB)\n",
      "Downloading certifi-2024.8.30-py3-none-any.whl (167 kB)\n",
      "Downloading charset_normalizer-3.4.0-cp312-cp312-win_amd64.whl (102 kB)\n",
      "Downloading idna-3.10-py3-none-any.whl (70 kB)\n",
      "Downloading urllib3-2.2.3-py3-none-any.whl (126 kB)\n",
      "Downloading pycparser-2.22-py3-none-any.whl (117 kB)\n",
      "Installing collected packages: urllib3, typing-extensions, pycparser, isodate, idna, charset-normalizer, certifi, requests, cffi, cryptography, azure-core, azure_storage_blob\n",
      "Successfully installed azure-core-1.31.0 azure_storage_blob-12.23.1 certifi-2024.8.30 cffi-1.17.1 charset-normalizer-3.4.0 cryptography-43.0.1 idna-3.10 isodate-0.7.2 pycparser-2.22 requests-2.32.3 typing-extensions-4.12.2 urllib3-2.2.3\n"
     ]
    },
    {
     "name": "stderr",
     "output_type": "stream",
     "text": [
      "  WARNING: The script normalizer.exe is installed in 'c:\\Users\\AHMAD\\AppData\\Local\\Programs\\Python\\Python312\\Scripts' which is not on PATH.\n",
      "  Consider adding this directory to PATH or, if you prefer to suppress this warning, use --no-warn-script-location.\n"
     ]
    }
   ],
   "source": [
    "!python -m pip install azure_storage_blob"
   ]
  },
  {
   "cell_type": "code",
   "execution_count": 4,
   "metadata": {},
   "outputs": [
    {
     "name": "stdout",
     "output_type": "stream",
     "text": [
      "Collecting python-dotenv\n",
      "  Downloading python_dotenv-1.0.1-py3-none-any.whl.metadata (23 kB)\n",
      "Downloading python_dotenv-1.0.1-py3-none-any.whl (19 kB)\n",
      "Installing collected packages: python-dotenv\n",
      "Successfully installed python-dotenv-1.0.1\n"
     ]
    },
    {
     "name": "stderr",
     "output_type": "stream",
     "text": [
      "  WARNING: The script dotenv.exe is installed in 'c:\\Users\\AHMAD\\AppData\\Local\\Programs\\Python\\Python312\\Scripts' which is not on PATH.\n",
      "  Consider adding this directory to PATH or, if you prefer to suppress this warning, use --no-warn-script-location.\n"
     ]
    }
   ],
   "source": [
    "!python -m pip install python-dotenv"
   ]
  },
  {
   "cell_type": "code",
   "execution_count": 35,
   "metadata": {},
   "outputs": [],
   "source": [
    "#Importing Necessary libraries\n",
    "import pandas as pd\n",
    "from azure.storage.blob import BlobServiceClient\n",
    "from dotenv import load_dotenv\n",
    "import os"
   ]
  },
  {
   "cell_type": "code",
   "execution_count": 36,
   "metadata": {},
   "outputs": [],
   "source": [
    "#Importing Necessary libraries\n",
    "import pandas as pd\n",
    "from azure.storage.blob import BlobServiceClient, BlobClient\n",
    "from dotenv import load_dotenv\n",
    "import os\n"
   ]
  },
  {
   "cell_type": "code",
   "execution_count": 37,
   "metadata": {},
   "outputs": [
    {
     "name": "stdout",
     "output_type": "stream",
     "text": [
      "Data Extracted Successfully!\n"
     ]
    }
   ],
   "source": [
    "# Data Extraction\n",
    "try:\n",
    "    data = pd.read_csv(r'zipco_transaction.csv')\n",
    "    print('Data Extracted Successfully!')\n",
    "except Exception as e:\n",
    "    print(f\"An erro occurred: {e}\")"
   ]
  },
  {
   "cell_type": "code",
   "execution_count": null,
   "metadata": {},
   "outputs": [],
   "source": []
  },
  {
   "cell_type": "code",
   "execution_count": 38,
   "metadata": {},
   "outputs": [
    {
     "data": {
      "text/html": [
       "<div>\n",
       "<style scoped>\n",
       "    .dataframe tbody tr th:only-of-type {\n",
       "        vertical-align: middle;\n",
       "    }\n",
       "\n",
       "    .dataframe tbody tr th {\n",
       "        vertical-align: top;\n",
       "    }\n",
       "\n",
       "    .dataframe thead th {\n",
       "        text-align: right;\n",
       "    }\n",
       "</style>\n",
       "<table border=\"1\" class=\"dataframe\">\n",
       "  <thead>\n",
       "    <tr style=\"text-align: right;\">\n",
       "      <th></th>\n",
       "      <th>Date</th>\n",
       "      <th>ProductName</th>\n",
       "      <th>Quantity</th>\n",
       "      <th>UnitPrice</th>\n",
       "      <th>StoreLocation</th>\n",
       "      <th>PaymentType</th>\n",
       "      <th>PromotionApplied</th>\n",
       "      <th>Weather</th>\n",
       "      <th>Temperature</th>\n",
       "      <th>StaffPerformanceRating</th>\n",
       "      <th>...</th>\n",
       "      <th>DeliveryTime_min</th>\n",
       "      <th>OrderType</th>\n",
       "      <th>CustomerName</th>\n",
       "      <th>CustomerAddress</th>\n",
       "      <th>Customer_PhoneNumber</th>\n",
       "      <th>CustomerEmail</th>\n",
       "      <th>Staff_Name</th>\n",
       "      <th>Staff_Email</th>\n",
       "      <th>DayOfWeek</th>\n",
       "      <th>TotalSales</th>\n",
       "    </tr>\n",
       "  </thead>\n",
       "  <tbody>\n",
       "    <tr>\n",
       "      <th>0</th>\n",
       "      <td>2023-01-01 00:00:00</td>\n",
       "      <td>Vanilla Cake</td>\n",
       "      <td>2</td>\n",
       "      <td>12.532304</td>\n",
       "      <td>South</td>\n",
       "      <td>Cash</td>\n",
       "      <td>True</td>\n",
       "      <td>Rainy</td>\n",
       "      <td>20.654914</td>\n",
       "      <td>Poor</td>\n",
       "      <td>...</td>\n",
       "      <td>30</td>\n",
       "      <td>In Store</td>\n",
       "      <td>William Adams</td>\n",
       "      <td>9851 David Green\\r\\nTonyaburgh, VA 02853</td>\n",
       "      <td>(916)427-7276x861</td>\n",
       "      <td>lisa00@example.net</td>\n",
       "      <td>John Bridges</td>\n",
       "      <td>pdavidson@example.com</td>\n",
       "      <td>Sunday</td>\n",
       "      <td>25.064608</td>\n",
       "    </tr>\n",
       "    <tr>\n",
       "      <th>1</th>\n",
       "      <td>2023-01-01 01:00:00</td>\n",
       "      <td>Red Velvet Cake</td>\n",
       "      <td>1</td>\n",
       "      <td>7.083070</td>\n",
       "      <td>South</td>\n",
       "      <td>Cash</td>\n",
       "      <td>False</td>\n",
       "      <td>Rainy</td>\n",
       "      <td>23.549497</td>\n",
       "      <td>Average</td>\n",
       "      <td>...</td>\n",
       "      <td>33</td>\n",
       "      <td>In Store</td>\n",
       "      <td>Anthony Wiggins</td>\n",
       "      <td>24682 Holly Stravenue\\r\\nMooreville, NH 13901</td>\n",
       "      <td>769.318.4373</td>\n",
       "      <td>michellefernandez@example.com</td>\n",
       "      <td>Sarah Bentley</td>\n",
       "      <td>ajohnson@example.net</td>\n",
       "      <td>Sunday</td>\n",
       "      <td>7.083070</td>\n",
       "    </tr>\n",
       "    <tr>\n",
       "      <th>2</th>\n",
       "      <td>2023-01-01 02:00:00</td>\n",
       "      <td>Chocolate Cake</td>\n",
       "      <td>5</td>\n",
       "      <td>6.736064</td>\n",
       "      <td>North</td>\n",
       "      <td>Cash</td>\n",
       "      <td>True</td>\n",
       "      <td>Rainy</td>\n",
       "      <td>NaN</td>\n",
       "      <td>Excellent</td>\n",
       "      <td>...</td>\n",
       "      <td>43</td>\n",
       "      <td>Phone Order</td>\n",
       "      <td>Ashley Duke</td>\n",
       "      <td>10184 Washington Trace Apt. 679\\r\\nEast Brandi...</td>\n",
       "      <td>702.520.3286</td>\n",
       "      <td>cooperwilliam@example.com</td>\n",
       "      <td>Connie Cervantes</td>\n",
       "      <td>michele29@example.net</td>\n",
       "      <td>Sunday</td>\n",
       "      <td>33.680321</td>\n",
       "    </tr>\n",
       "  </tbody>\n",
       "</table>\n",
       "<p>3 rows × 21 columns</p>\n",
       "</div>"
      ],
      "text/plain": [
       "                  Date      ProductName  Quantity  UnitPrice StoreLocation  \\\n",
       "0  2023-01-01 00:00:00     Vanilla Cake         2  12.532304         South   \n",
       "1  2023-01-01 01:00:00  Red Velvet Cake         1   7.083070         South   \n",
       "2  2023-01-01 02:00:00   Chocolate Cake         5   6.736064         North   \n",
       "\n",
       "  PaymentType  PromotionApplied Weather  Temperature StaffPerformanceRating  \\\n",
       "0        Cash              True   Rainy    20.654914                   Poor   \n",
       "1        Cash             False   Rainy    23.549497                Average   \n",
       "2        Cash              True   Rainy          NaN              Excellent   \n",
       "\n",
       "   ... DeliveryTime_min    OrderType     CustomerName  \\\n",
       "0  ...               30     In Store    William Adams   \n",
       "1  ...               33     In Store  Anthony Wiggins   \n",
       "2  ...               43  Phone Order      Ashley Duke   \n",
       "\n",
       "                                     CustomerAddress Customer_PhoneNumber  \\\n",
       "0           9851 David Green\\r\\nTonyaburgh, VA 02853    (916)427-7276x861   \n",
       "1      24682 Holly Stravenue\\r\\nMooreville, NH 13901         769.318.4373   \n",
       "2  10184 Washington Trace Apt. 679\\r\\nEast Brandi...         702.520.3286   \n",
       "\n",
       "                   CustomerEmail        Staff_Name            Staff_Email  \\\n",
       "0             lisa00@example.net      John Bridges  pdavidson@example.com   \n",
       "1  michellefernandez@example.com     Sarah Bentley   ajohnson@example.net   \n",
       "2      cooperwilliam@example.com  Connie Cervantes  michele29@example.net   \n",
       "\n",
       "  DayOfWeek TotalSales  \n",
       "0    Sunday  25.064608  \n",
       "1    Sunday   7.083070  \n",
       "2    Sunday  33.680321  \n",
       "\n",
       "[3 rows x 21 columns]"
      ]
     },
     "execution_count": 38,
     "metadata": {},
     "output_type": "execute_result"
    }
   ],
   "source": [
    "data.head(3)\n"
   ]
  },
  {
   "cell_type": "code",
   "execution_count": 39,
   "metadata": {},
   "outputs": [
    {
     "name": "stdout",
     "output_type": "stream",
     "text": [
      "<class 'pandas.core.frame.DataFrame'>\n",
      "RangeIndex: 1005 entries, 0 to 1004\n",
      "Data columns (total 21 columns):\n",
      " #   Column                  Non-Null Count  Dtype  \n",
      "---  ------                  --------------  -----  \n",
      " 0   Date                    1005 non-null   object \n",
      " 1   ProductName             1005 non-null   object \n",
      " 2   Quantity                1005 non-null   int64  \n",
      " 3   UnitPrice               1005 non-null   float64\n",
      " 4   StoreLocation           1005 non-null   object \n",
      " 5   PaymentType             1005 non-null   object \n",
      " 6   PromotionApplied        1005 non-null   bool   \n",
      " 7   Weather                 1005 non-null   object \n",
      " 8   Temperature             904 non-null    float64\n",
      " 9   StaffPerformanceRating  1005 non-null   object \n",
      " 10  CustomerFeedback        905 non-null    object \n",
      " 11  DeliveryTime_min        1005 non-null   int64  \n",
      " 12  OrderType               1005 non-null   object \n",
      " 13  CustomerName            1005 non-null   object \n",
      " 14  CustomerAddress         1005 non-null   object \n",
      " 15  Customer_PhoneNumber    1005 non-null   object \n",
      " 16  CustomerEmail           904 non-null    object \n",
      " 17  Staff_Name              1005 non-null   object \n",
      " 18  Staff_Email             904 non-null    object \n",
      " 19  DayOfWeek               1005 non-null   object \n",
      " 20  TotalSales              1005 non-null   float64\n",
      "dtypes: bool(1), float64(3), int64(2), object(15)\n",
      "memory usage: 158.1+ KB\n"
     ]
    }
   ],
   "source": [
    "data.info()"
   ]
  },
  {
   "cell_type": "code",
   "execution_count": 40,
   "metadata": {},
   "outputs": [],
   "source": [
    "# Data cleaning and transformation\n",
    "# Remove duplicates\n",
    "data.drop_duplicates(inplace=True)"
   ]
  },
  {
   "cell_type": "code",
   "execution_count": 41,
   "metadata": {},
   "outputs": [],
   "source": [
    "# Handle missing values( filling missing numeric values with the mean or median)\n",
    "numeric_columns = data.select_dtypes(include =['float', 'int64']).columns\n",
    "for col in numeric_columns:\n",
    "    data.fillna({col: data[col].mean()}, inplace =True)"
   ]
  },
  {
   "cell_type": "code",
   "execution_count": 42,
   "metadata": {},
   "outputs": [],
   "source": [
    "# Handling missing values (filling missing string object values with 'unknown')\n",
    "String_columns = data.select_dtypes(include =['object']).columns\n",
    "for col in String_columns:\n",
    "    data.fillna({col: 'Unknown'}, inplace=True)"
   ]
  },
  {
   "cell_type": "code",
   "execution_count": 43,
   "metadata": {},
   "outputs": [],
   "source": [
    "data['Date'] = pd.to_datetime(data['Date'])"
   ]
  },
  {
   "cell_type": "code",
   "execution_count": 44,
   "metadata": {},
   "outputs": [],
   "source": [
    "#Create products table\n",
    "products= data [['ProductName' ]].copy().drop_duplicates().reset_index(drop=True)\n",
    "products.index.name ='ProductID'\n",
    "products = products.reset_index()"
   ]
  },
  {
   "cell_type": "code",
   "execution_count": 45,
   "metadata": {},
   "outputs": [],
   "source": [
    "customers =data [['CustomerName','CustomerAddress','Customer_PhoneNumber','CustomerEmail']].copy().drop_duplicates().reset_index(drop=True)\n",
    "customers.index.name ='CustomerID'\n",
    "customers = customers.reset_index()#create customers table\n"
   ]
  },
  {
   "cell_type": "code",
   "execution_count": 46,
   "metadata": {},
   "outputs": [],
   "source": [
    "# creating the staff\n",
    "staff =data [['Staff_Name','Staff_Email']].copy().drop_duplicates().reset_index(drop=True)\n",
    "staff.index.name ='StaffID'\n",
    "staff = staff.reset_index()"
   ]
  },
  {
   "cell_type": "code",
   "execution_count": 47,
   "metadata": {},
   "outputs": [],
   "source": [
    "# Creating the transactons tabel\n",
    "transaction = data.merge(products, on=['ProductName'], how = 'left') \\\n",
    "                    .merge(customers, on = ['CustomerName','CustomerAddress','Customer_PhoneNumber','CustomerEmail'], how ='left' ) \\\n",
    "                    .merge(staff, on= ['Staff_Name','Staff_Email'], how ='left' )\n",
    "transaction.index.name ='TransactionID'\n",
    "transaction = transaction.reset_index()\\\n",
    "                            [['Date', 'ProductName', 'Quantity', 'UnitPrice', 'StoreLocation','ProductID', \\\n",
    "                              'PaymentType', 'PromotionApplied', 'Weather', 'Temperature','StaffPerformanceRating','CustomerID', \\\n",
    "                                'CustomerFeedback', 'DeliveryTime_min','OrderType','StaffID','DayOfWeek','TotalSales']]"
   ]
  },
  {
   "cell_type": "code",
   "execution_count": 34,
   "metadata": {},
   "outputs": [],
   "source": []
  },
  {
   "cell_type": "code",
   "execution_count": 48,
   "metadata": {},
   "outputs": [
    {
     "name": "stdout",
     "output_type": "stream",
     "text": [
      "<class 'pandas.core.frame.DataFrame'>\n",
      "RangeIndex: 1000 entries, 0 to 999\n",
      "Data columns (total 18 columns):\n",
      " #   Column                  Non-Null Count  Dtype         \n",
      "---  ------                  --------------  -----         \n",
      " 0   Date                    1000 non-null   datetime64[ns]\n",
      " 1   ProductName             1000 non-null   object        \n",
      " 2   Quantity                1000 non-null   int64         \n",
      " 3   UnitPrice               1000 non-null   float64       \n",
      " 4   StoreLocation           1000 non-null   object        \n",
      " 5   ProductID               1000 non-null   int64         \n",
      " 6   PaymentType             1000 non-null   object        \n",
      " 7   PromotionApplied        1000 non-null   bool          \n",
      " 8   Weather                 1000 non-null   object        \n",
      " 9   Temperature             1000 non-null   float64       \n",
      " 10  StaffPerformanceRating  1000 non-null   object        \n",
      " 11  CustomerID              1000 non-null   int64         \n",
      " 12  CustomerFeedback        1000 non-null   object        \n",
      " 13  DeliveryTime_min        1000 non-null   int64         \n",
      " 14  OrderType               1000 non-null   object        \n",
      " 15  StaffID                 1000 non-null   int64         \n",
      " 16  DayOfWeek               1000 non-null   object        \n",
      " 17  TotalSales              1000 non-null   float64       \n",
      "dtypes: bool(1), datetime64[ns](1), float64(3), int64(5), object(8)\n",
      "memory usage: 133.9+ KB\n"
     ]
    }
   ],
   "source": [
    "transaction.info()"
   ]
  },
  {
   "cell_type": "code",
   "execution_count": 49,
   "metadata": {},
   "outputs": [],
   "source": [
    "# Save data to as csv files\n",
    "data.to_csv('clean_data.csv', index=False)\n",
    "products.to_csv('products.csv', index=False)\n",
    "customers.to_csv('customers.csv', index=False)\n",
    "staff.to_csv('staff.csv', index=False)\n",
    "transaction.to_csv('transaction.csv', index=False)"
   ]
  },
  {
   "cell_type": "code",
   "execution_count": 50,
   "metadata": {},
   "outputs": [
    {
     "data": {
      "text/plain": [
       "Index(['Date', 'ProductName', 'Quantity', 'UnitPrice', 'StoreLocation',\n",
       "       'PaymentType', 'PromotionApplied', 'Weather', 'Temperature',\n",
       "       'StaffPerformanceRating', 'CustomerFeedback', 'DeliveryTime_min',\n",
       "       'OrderType', 'CustomerName', 'CustomerAddress', 'Customer_PhoneNumber',\n",
       "       'CustomerEmail', 'Staff_Name', 'Staff_Email', 'DayOfWeek',\n",
       "       'TotalSales'],\n",
       "      dtype='object')"
      ]
     },
     "execution_count": 50,
     "metadata": {},
     "output_type": "execute_result"
    }
   ],
   "source": [
    "data.columns"
   ]
  },
  {
   "cell_type": "code",
   "execution_count": null,
   "metadata": {},
   "outputs": [],
   "source": [
    "# Clear cached variables\n",
    "os.environ.pop('CONNECT_STR', None)\n",
    "os.environ.pop('CONTAINER_NAME', None)\n",
    "\n",
    "# Reload the .env file\n",
    "load_dotenv(override=True)\n",
    "connect_str = os.getenv('CONNECT_STR')\n",
    "container_name = os.getenv('CONTAINER_NAME')\n",
    "\n",
    "#print(connect_str)  # Ensure changes are reflected\n",
    "#print(container_name)"
   ]
  },
  {
   "cell_type": "code",
   "execution_count": null,
   "metadata": {},
   "outputs": [],
   "source": [
    "#print(f'connect_str: {connect_str}')"
   ]
  },
  {
   "cell_type": "code",
   "execution_count": null,
   "metadata": {},
   "outputs": [],
   "source": [
    "from azure.storage.blob import BlobServiceClient\n",
    "from azure.core.exceptions import ResourceExistsError\n",
    "from dotenv import load_dotenv\n",
    "import os\n",
    "\n",
    "# Load the environment variables\n",
    "load_dotenv()\n",
    "\n",
    "# Get the connection string and container name\n",
    "connect_str = os.getenv('CONNECT_STR')\n",
    "container_name = os.getenv('CONTAINER_NAME')\n",
    "\n",
    "if not connect_str:\n",
    "    raise ValueError(\"Azure Blob Storage connection string not found in environment variables.\")\n",
    "\n",
    "# Create a BlobServiceClient object\n",
    "blob_service_client = BlobServiceClient.from_connection_string(connect_str)\n",
    "\n",
    "# Check and create the container if it doesn't exist\n",
    "try:\n",
    "    container_client = blob_service_client.create_container(container_name)\n",
    "    print(f\"Container '{container_name}' created.\")\n",
    "except ResourceExistsError:\n",
    "    print(f\"Container '{container_name}' already exists.\")\n",
    "    container_client = blob_service_client.get_container_client(container_name)\n",
    "\n",
    "# Load data to Azure Blob Storage\n",
    "files = [\n",
    "    (data, 'rawdata/cleaned_zipco_transaction_data.csv'),\n",
    "    (products, 'cleaneddata/product.csv'),\n",
    "    (customers, 'cleaneddata/customers.csv'),\n",
    "    (staff, 'cleaneddata/staff.csv'),\n",
    "    (transaction, 'cleaneddata/transaction.csv')\n",
    "]\n",
    "\n",
    "# Upload the files to Azure Blob Storage\n",
    "for file, blob_name in files:\n",
    "    blob_client = container_client.get_blob_client(blob_name)\n",
    "    output = file.to_csv(index=False)\n",
    "    blob_client.upload_blob(output, overwrite=True)\n",
    "    print(f'{blob_name} loaded into Azure Blob Storage')\n"
   ]
  },
  {
   "cell_type": "code",
   "execution_count": null,
   "metadata": {},
   "outputs": [],
   "source": []
  }
 ],
 "metadata": {
  "kernelspec": {
   "display_name": "Python 3",
   "language": "python",
   "name": "python3"
  },
  "language_info": {
   "codemirror_mode": {
    "name": "ipython",
    "version": 3
   },
   "file_extension": ".py",
   "mimetype": "text/x-python",
   "name": "python",
   "nbconvert_exporter": "python",
   "pygments_lexer": "ipython3",
   "version": "undefined.undefined.undefined"
  }
 },
 "nbformat": 4,
 "nbformat_minor": 2
}
