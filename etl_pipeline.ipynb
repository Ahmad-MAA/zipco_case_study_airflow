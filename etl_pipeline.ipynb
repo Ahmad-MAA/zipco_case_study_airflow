{
 "cells": [
  {
   "cell_type": "code",
   "execution_count": null,
   "metadata": {},
   "outputs": [],
   "source": [
    "# instaling the necessary drive\n",
    "!python -m pip install pandas "
   ]
  },
  {
   "cell_type": "code",
   "execution_count": null,
   "metadata": {},
   "outputs": [],
   "source": [
    "!python -m pip install azure_storage_blob"
   ]
  },
  {
   "cell_type": "code",
   "execution_count": 7,
   "metadata": {},
   "outputs": [
    {
     "name": "stdout",
     "output_type": "stream",
     "text": [
      "Requirement already satisfied: python-dotenv in c:\\users\\ahmad\\anaconda3\\lib\\site-packages (0.21.0)\n"
     ]
    }
   ],
   "source": [
    "!python -m pip install python-dotenv"
   ]
  },
  {
   "cell_type": "code",
   "execution_count": 8,
   "metadata": {},
   "outputs": [],
   "source": [
    "#Importing Necessary libraries\n",
    "import pandas as pd\n",
    "from azure.storage.blob import BlobServiceClient\n",
    "from dotenv import load_dotenv\n",
    "import os"
   ]
  },
  {
   "cell_type": "code",
   "execution_count": 10,
   "metadata": {},
   "outputs": [
    {
     "name": "stdout",
     "output_type": "stream",
     "text": [
      "Data Extracted Successfully!\n"
     ]
    }
   ],
   "source": [
    "# Data Extraction\n",
    "try:\n",
    "    data = pd.read_csv(r'zipco_transaction.csv')\n",
    "    print('Data Extracted Successfully!')\n",
    "except Exception as e:\n",
    "    print(f\"An erro occurred: {e}\")"
   ]
  },
  {
   "cell_type": "code",
   "execution_count": null,
   "metadata": {},
   "outputs": [],
   "source": []
  },
  {
   "cell_type": "code",
   "execution_count": 11,
   "metadata": {},
   "outputs": [
    {
     "data": {
      "text/html": [
       "<div>\n",
       "<style scoped>\n",
       "    .dataframe tbody tr th:only-of-type {\n",
       "        vertical-align: middle;\n",
       "    }\n",
       "\n",
       "    .dataframe tbody tr th {\n",
       "        vertical-align: top;\n",
       "    }\n",
       "\n",
       "    .dataframe thead th {\n",
       "        text-align: right;\n",
       "    }\n",
       "</style>\n",
       "<table border=\"1\" class=\"dataframe\">\n",
       "  <thead>\n",
       "    <tr style=\"text-align: right;\">\n",
       "      <th></th>\n",
       "      <th>Date</th>\n",
       "      <th>ProductName</th>\n",
       "      <th>Quantity</th>\n",
       "      <th>UnitPrice</th>\n",
       "      <th>StoreLocation</th>\n",
       "      <th>PaymentType</th>\n",
       "      <th>PromotionApplied</th>\n",
       "      <th>Weather</th>\n",
       "      <th>Temperature</th>\n",
       "      <th>StaffPerformanceRating</th>\n",
       "      <th>...</th>\n",
       "      <th>DeliveryTime_min</th>\n",
       "      <th>OrderType</th>\n",
       "      <th>CustomerName</th>\n",
       "      <th>CustomerAddress</th>\n",
       "      <th>Customer_PhoneNumber</th>\n",
       "      <th>CustomerEmail</th>\n",
       "      <th>Staff_Name</th>\n",
       "      <th>Staff_Email</th>\n",
       "      <th>DayOfWeek</th>\n",
       "      <th>TotalSales</th>\n",
       "    </tr>\n",
       "  </thead>\n",
       "  <tbody>\n",
       "    <tr>\n",
       "      <th>0</th>\n",
       "      <td>2023-01-01 00:00:00</td>\n",
       "      <td>Vanilla Cake</td>\n",
       "      <td>2</td>\n",
       "      <td>12.532304</td>\n",
       "      <td>South</td>\n",
       "      <td>Cash</td>\n",
       "      <td>True</td>\n",
       "      <td>Rainy</td>\n",
       "      <td>20.654914</td>\n",
       "      <td>Poor</td>\n",
       "      <td>...</td>\n",
       "      <td>30</td>\n",
       "      <td>In Store</td>\n",
       "      <td>William Adams</td>\n",
       "      <td>9851 David Green\\r\\nTonyaburgh, VA 02853</td>\n",
       "      <td>(916)427-7276x861</td>\n",
       "      <td>lisa00@example.net</td>\n",
       "      <td>John Bridges</td>\n",
       "      <td>pdavidson@example.com</td>\n",
       "      <td>Sunday</td>\n",
       "      <td>25.064608</td>\n",
       "    </tr>\n",
       "    <tr>\n",
       "      <th>1</th>\n",
       "      <td>2023-01-01 01:00:00</td>\n",
       "      <td>Red Velvet Cake</td>\n",
       "      <td>1</td>\n",
       "      <td>7.083070</td>\n",
       "      <td>South</td>\n",
       "      <td>Cash</td>\n",
       "      <td>False</td>\n",
       "      <td>Rainy</td>\n",
       "      <td>23.549497</td>\n",
       "      <td>Average</td>\n",
       "      <td>...</td>\n",
       "      <td>33</td>\n",
       "      <td>In Store</td>\n",
       "      <td>Anthony Wiggins</td>\n",
       "      <td>24682 Holly Stravenue\\r\\nMooreville, NH 13901</td>\n",
       "      <td>769.318.4373</td>\n",
       "      <td>michellefernandez@example.com</td>\n",
       "      <td>Sarah Bentley</td>\n",
       "      <td>ajohnson@example.net</td>\n",
       "      <td>Sunday</td>\n",
       "      <td>7.083070</td>\n",
       "    </tr>\n",
       "    <tr>\n",
       "      <th>2</th>\n",
       "      <td>2023-01-01 02:00:00</td>\n",
       "      <td>Chocolate Cake</td>\n",
       "      <td>5</td>\n",
       "      <td>6.736064</td>\n",
       "      <td>North</td>\n",
       "      <td>Cash</td>\n",
       "      <td>True</td>\n",
       "      <td>Rainy</td>\n",
       "      <td>NaN</td>\n",
       "      <td>Excellent</td>\n",
       "      <td>...</td>\n",
       "      <td>43</td>\n",
       "      <td>Phone Order</td>\n",
       "      <td>Ashley Duke</td>\n",
       "      <td>10184 Washington Trace Apt. 679\\r\\nEast Brandi...</td>\n",
       "      <td>702.520.3286</td>\n",
       "      <td>cooperwilliam@example.com</td>\n",
       "      <td>Connie Cervantes</td>\n",
       "      <td>michele29@example.net</td>\n",
       "      <td>Sunday</td>\n",
       "      <td>33.680321</td>\n",
       "    </tr>\n",
       "  </tbody>\n",
       "</table>\n",
       "<p>3 rows × 21 columns</p>\n",
       "</div>"
      ],
      "text/plain": [
       "                  Date      ProductName  Quantity  UnitPrice StoreLocation  \\\n",
       "0  2023-01-01 00:00:00     Vanilla Cake         2  12.532304         South   \n",
       "1  2023-01-01 01:00:00  Red Velvet Cake         1   7.083070         South   \n",
       "2  2023-01-01 02:00:00   Chocolate Cake         5   6.736064         North   \n",
       "\n",
       "  PaymentType  PromotionApplied Weather  Temperature StaffPerformanceRating  \\\n",
       "0        Cash              True   Rainy    20.654914                   Poor   \n",
       "1        Cash             False   Rainy    23.549497                Average   \n",
       "2        Cash              True   Rainy          NaN              Excellent   \n",
       "\n",
       "   ... DeliveryTime_min    OrderType     CustomerName  \\\n",
       "0  ...               30     In Store    William Adams   \n",
       "1  ...               33     In Store  Anthony Wiggins   \n",
       "2  ...               43  Phone Order      Ashley Duke   \n",
       "\n",
       "                                     CustomerAddress Customer_PhoneNumber  \\\n",
       "0           9851 David Green\\r\\nTonyaburgh, VA 02853    (916)427-7276x861   \n",
       "1      24682 Holly Stravenue\\r\\nMooreville, NH 13901         769.318.4373   \n",
       "2  10184 Washington Trace Apt. 679\\r\\nEast Brandi...         702.520.3286   \n",
       "\n",
       "                   CustomerEmail        Staff_Name            Staff_Email  \\\n",
       "0             lisa00@example.net      John Bridges  pdavidson@example.com   \n",
       "1  michellefernandez@example.com     Sarah Bentley   ajohnson@example.net   \n",
       "2      cooperwilliam@example.com  Connie Cervantes  michele29@example.net   \n",
       "\n",
       "  DayOfWeek TotalSales  \n",
       "0    Sunday  25.064608  \n",
       "1    Sunday   7.083070  \n",
       "2    Sunday  33.680321  \n",
       "\n",
       "[3 rows x 21 columns]"
      ]
     },
     "execution_count": 11,
     "metadata": {},
     "output_type": "execute_result"
    }
   ],
   "source": [
    "data.head(3\n",
    "          )"
   ]
  },
  {
   "cell_type": "code",
   "execution_count": 12,
   "metadata": {},
   "outputs": [
    {
     "name": "stdout",
     "output_type": "stream",
     "text": [
      "<class 'pandas.core.frame.DataFrame'>\n",
      "RangeIndex: 1005 entries, 0 to 1004\n",
      "Data columns (total 21 columns):\n",
      " #   Column                  Non-Null Count  Dtype  \n",
      "---  ------                  --------------  -----  \n",
      " 0   Date                    1005 non-null   object \n",
      " 1   ProductName             1005 non-null   object \n",
      " 2   Quantity                1005 non-null   int64  \n",
      " 3   UnitPrice               1005 non-null   float64\n",
      " 4   StoreLocation           1005 non-null   object \n",
      " 5   PaymentType             1005 non-null   object \n",
      " 6   PromotionApplied        1005 non-null   bool   \n",
      " 7   Weather                 1005 non-null   object \n",
      " 8   Temperature             904 non-null    float64\n",
      " 9   StaffPerformanceRating  1005 non-null   object \n",
      " 10  CustomerFeedback        905 non-null    object \n",
      " 11  DeliveryTime_min        1005 non-null   int64  \n",
      " 12  OrderType               1005 non-null   object \n",
      " 13  CustomerName            1005 non-null   object \n",
      " 14  CustomerAddress         1005 non-null   object \n",
      " 15  Customer_PhoneNumber    1005 non-null   object \n",
      " 16  CustomerEmail           904 non-null    object \n",
      " 17  Staff_Name              1005 non-null   object \n",
      " 18  Staff_Email             904 non-null    object \n",
      " 19  DayOfWeek               1005 non-null   object \n",
      " 20  TotalSales              1005 non-null   float64\n",
      "dtypes: bool(1), float64(3), int64(2), object(15)\n",
      "memory usage: 158.1+ KB\n"
     ]
    }
   ],
   "source": [
    "data.info()"
   ]
  },
  {
   "cell_type": "code",
   "execution_count": 13,
   "metadata": {},
   "outputs": [],
   "source": [
    "# Data cleaning and transformation\n",
    "# Remove duplicates\n",
    "data.drop_duplicates(inplace=True)"
   ]
  },
  {
   "cell_type": "code",
   "execution_count": 16,
   "metadata": {},
   "outputs": [],
   "source": [
    "# Hnadle missing values( filling missing numeric values with the mean or median)\n",
    "numeric_columns = data.select_dtypes(include =['float', 'int64']).columns\n",
    "for col in numeric_columns:\n",
    "    data.fillna({col: data[col].mean()}, inplace =True)"
   ]
  },
  {
   "cell_type": "code",
   "execution_count": 18,
   "metadata": {},
   "outputs": [],
   "source": [
    "# Handling missing values (filling missing string object values with 'unknown')\n",
    "String_columns = data.select_dtypes(include =['object']).columns\n",
    "for col in String_columns:\n",
    "    data.fillna({col: 'Unknown'}, inplace=True)"
   ]
  },
  {
   "cell_type": "code",
   "execution_count": 36,
   "metadata": {},
   "outputs": [],
   "source": [
    "data['Date'] = pd.to_datetime(data['Date'])"
   ]
  },
  {
   "cell_type": "code",
   "execution_count": 37,
   "metadata": {},
   "outputs": [],
   "source": [
    "#Create products table\n",
    "products= data [['ProductName' ]].copy().drop_duplicates().reset_index(drop=True)\n",
    "products.index.name ='ProductID'\n",
    "products = products.reset_index()"
   ]
  },
  {
   "cell_type": "code",
   "execution_count": 38,
   "metadata": {},
   "outputs": [],
   "source": [
    "customers =data [['CustomerName','CustomerAddress','Customer_PhoneNumber','CustomerEmail']].copy().drop_duplicates().reset_index(drop=True)\n",
    "customers.index.name ='CustomerID'\n",
    "customers = customers.reset_index()#create customers table\n"
   ]
  },
  {
   "cell_type": "code",
   "execution_count": 39,
   "metadata": {},
   "outputs": [],
   "source": [
    "# creating the staff\n",
    "staff =data [['Staff_Name','Staff_Email']].copy().drop_duplicates().reset_index(drop=True)\n",
    "staff.index.name ='StaffID'\n",
    "staff = staff.reset_index()"
   ]
  },
  {
   "cell_type": "code",
   "execution_count": 40,
   "metadata": {},
   "outputs": [],
   "source": [
    "# Creating the transactons tabel\n",
    "transaction = data.merge(products, on=['ProductName'], how = 'left') \\\n",
    "                    .merge(customers, on = ['CustomerName','CustomerAddress','Customer_PhoneNumber','CustomerEmail'], how ='left' ) \\\n",
    "                    .merge(staff, on= ['Staff_Name','Staff_Email'], how ='left' )\n",
    "transaction.index.name ='TransactionID'\n",
    "transaction = transaction.reset_index()\\\n",
    "                            [['Date', 'ProductName', 'Quantity', 'UnitPrice', 'StoreLocation','ProductID', \\\n",
    "                              'PaymentType', 'PromotionApplied', 'Weather', 'Temperature','StaffPerformanceRating','CustomerID', \\\n",
    "                                'CustomerFeedback', 'DeliveryTime_min','OrderType','StaffID','DayOfWeek','TotalSales']]"
   ]
  },
  {
   "cell_type": "code",
   "execution_count": 34,
   "metadata": {},
   "outputs": [],
   "source": []
  },
  {
   "cell_type": "code",
   "execution_count": 41,
   "metadata": {},
   "outputs": [
    {
     "name": "stdout",
     "output_type": "stream",
     "text": [
      "<class 'pandas.core.frame.DataFrame'>\n",
      "RangeIndex: 1000 entries, 0 to 999\n",
      "Data columns (total 18 columns):\n",
      " #   Column                  Non-Null Count  Dtype         \n",
      "---  ------                  --------------  -----         \n",
      " 0   Date                    1000 non-null   datetime64[ns]\n",
      " 1   ProductName             1000 non-null   object        \n",
      " 2   Quantity                1000 non-null   int64         \n",
      " 3   UnitPrice               1000 non-null   float64       \n",
      " 4   StoreLocation           1000 non-null   object        \n",
      " 5   ProductID               1000 non-null   int64         \n",
      " 6   PaymentType             1000 non-null   object        \n",
      " 7   PromotionApplied        1000 non-null   bool          \n",
      " 8   Weather                 1000 non-null   object        \n",
      " 9   Temperature             1000 non-null   float64       \n",
      " 10  StaffPerformanceRating  1000 non-null   object        \n",
      " 11  CustomerID              1000 non-null   int64         \n",
      " 12  CustomerFeedback        1000 non-null   object        \n",
      " 13  DeliveryTime_min        1000 non-null   int64         \n",
      " 14  OrderType               1000 non-null   object        \n",
      " 15  StaffID                 1000 non-null   int64         \n",
      " 16  DayOfWeek               1000 non-null   object        \n",
      " 17  TotalSales              1000 non-null   float64       \n",
      "dtypes: bool(1), datetime64[ns](1), float64(3), int64(5), object(8)\n",
      "memory usage: 133.9+ KB\n"
     ]
    }
   ],
   "source": [
    "transaction.info(3)"
   ]
  },
  {
   "cell_type": "code",
   "execution_count": 42,
   "metadata": {},
   "outputs": [],
   "source": [
    "# Save data to as csv files\n",
    "data.to_csv('clean_data.csv', index=False)\n",
    "products.to_csv('products.csv', index=False)\n",
    "customers.to_csv('customers.csv', index=False)\n",
    "staff.to_csv('staff.csv', index=False)\n",
    "transaction.to_csv('transaction.csv', index=False)"
   ]
  },
  {
   "cell_type": "code",
   "execution_count": 23,
   "metadata": {},
   "outputs": [
    {
     "data": {
      "text/plain": [
       "Index(['Date', 'ProductName', 'Quantity', 'UnitPrice', 'StoreLocation',\n",
       "       'PaymentType', 'PromotionApplied', 'Weather', 'Temperature',\n",
       "       'StaffPerformanceRating', 'CustomerFeedback', 'DeliveryTime_min',\n",
       "       'OrderType', 'CustomerName', 'CustomerAddress', 'Customer_PhoneNumber',\n",
       "       'CustomerEmail', 'Staff_Name', 'Staff_Email', 'DayOfWeek',\n",
       "       'TotalSales'],\n",
       "      dtype='object')"
      ]
     },
     "execution_count": 23,
     "metadata": {},
     "output_type": "execute_result"
    }
   ],
   "source": [
    "data.columns"
   ]
  },
  {
   "cell_type": "code",
   "execution_count": null,
   "metadata": {},
   "outputs": [],
   "source": []
  }
 ],
 "metadata": {
  "kernelspec": {
   "display_name": "base",
   "language": "python",
   "name": "python3"
  },
  "language_info": {
   "codemirror_mode": {
    "name": "ipython",
    "version": 3
   },
   "file_extension": ".py",
   "mimetype": "text/x-python",
   "name": "python",
   "nbconvert_exporter": "python",
   "pygments_lexer": "ipython3",
   "version": "3.12.3"
  }
 },
 "nbformat": 4,
 "nbformat_minor": 2
}
